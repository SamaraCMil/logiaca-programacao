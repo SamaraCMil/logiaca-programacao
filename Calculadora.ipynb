{
  "cells": [
    {
      "cell_type": "code",
      "source": [
        "# Calculadora com 5 operações\n",
        "while True:\n",
        "          # Recebendo dois números do usuario\n",
        "        num1 = float(input(\"Digite o primeiro número: \"))\n",
        "        num2 = float(input(\"Digite o segundo número:\"))\n",
        "\n",
        "        # Exibindo Opçoes de opereções\n",
        "        print(\"Escolha a operação:\")\n",
        "        print(\"1. Adição\")\n",
        "        print(\"2. Subtração\")\n",
        "        print(\"3. Multiplicação\")\n",
        "        print(\"4. Divisão\")\n",
        "        print(\"5. Potenciação\")\n",
        "        print(\"6. Sair\")\n",
        "\n",
        "        # Recebendo a opção do usuário\n",
        "        opcao = input(\"Digite o número da operação desejada: \")\n",
        "\n",
        "        # Recebdno a operação escolhida\n",
        "        if opcao == \"1\":\n",
        "            resultado = num1 + num2\n",
        "            print(\"O resultado da adição é:\", resultado)\n",
        "        elif opcao == \"2\":\n",
        "            resultado = num1 - num2\n",
        "            print(\"O resultado da subtração é:\", resultado)\n",
        "        elif opcao == \"3\":\n",
        "            resultado = num1 * num2\n",
        "            print(\"O resultado da multiplicação é:\", resultado)\n",
        "        elif opcao == \"4\":\n",
        "            if num2 != 0:\n",
        "                resultado = num1 / num2\n",
        "                print(\"O resultado da divisão é:\", resultado)\n",
        "            else:\n",
        "                print(\"Erro: Divisão por zero não é permitida.\")\n",
        "        elif opcao == \"5\":\n",
        "            resultado = num1 ** num2\n",
        "            print(\"O resultado da potenciação é:\", resultado)\n",
        "        elif opcao == \"6\":\n",
        "            print(\"Saindo da calculadora.\")\n",
        "            break\n"
      ],
      "metadata": {
        "id": "N0GiZfnXYsVW"
      },
      "execution_count": null,
      "outputs": []
    }
  ],
  "metadata": {
    "colab": {
      "provenance": []
    },
    "kernelspec": {
      "display_name": "Python 3",
      "name": "python3"
    },
    "language_info": {
      "name": "python"
    }
  },
  "nbformat": 4,
  "nbformat_minor": 0
}